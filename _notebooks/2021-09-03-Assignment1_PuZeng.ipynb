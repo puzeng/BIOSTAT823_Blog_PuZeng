{
 "cells": [
  {
   "cell_type": "markdown",
   "metadata": {},
   "source": [
    "# Math is Fun - BIOSTAT 823 Assignment #1"
   ]
  },
  {
   "cell_type": "markdown",
   "metadata": {},
   "source": [
    "This post will consist my solutions for 3 questions taken from [Euler Project](https://projecteuler.net/archives) which they are:  \n",
    "    1. How many reversible numbers are there below one-billon? (ID: 145, solved by 16438 people)  \n",
    "    2. Permuted multiples. (ID: 52, solved by 65547 people)  \n",
    "    3. Summation of primes. (ID: 10, solved by 330347 people)\n",
    "    \n",
    "This post can be retrieved from [Pu's Blog for Biostat823](https://puzeng.github.io/BIOSTAT823_Blog_PuZeng/). And the post is auto-converted by Fastpages based on a jupyter nootebook where is kept in the [Pu's BIOSTAT823 repo](https://github.com/puzeng/BIOSTAT823_Blog_PuZeng) under the folder of _notebooks.  \n",
    "\n",
    "Repository can be accessd through this website: https://github.com/puzeng/BIOSTAT823_Blog_PuZeng.  \n",
    "\n",
    "\n",
    "The post can be accessed from here: https://puzeng.github.io/BIOSTAT823_Blog_PuZeng/.  "
   ]
  },
  {
   "cell_type": "markdown",
   "metadata": {},
   "source": [
    "## 1. How many reversible numbers are there below one-billion?"
   ]
  },
  {
   "cell_type": "markdown",
   "metadata": {},
   "source": [
    "\"Some positive integers n have the property that the sum \\[ n + reverse(n) \\] consists entirely of odd (decimal) digits. For instance, 36 + 63 = 99 and 409 + 904 = 1313. We will call such numbers reversible; so 36, 63, 409, and 904 are reversible. Leading zeroes are not allowed in either n or reverse(n).\n",
    "\n",
    "There are 120 reversible numbers below one-thousand.\n",
    "\n",
    "How many reversible numbers are there below one-billion ($10^9$)?\""
   ]
  },
  {
   "cell_type": "markdown",
   "metadata": {},
   "source": [
    "This is a question posted on the [Euler Project](https://projecteuler.net/problem=145) which was solved by 16435 people so far. I'm going to walk you through the analytical process that I took for solving the problem."
   ]
  },
  {
   "cell_type": "markdown",
   "metadata": {},
   "source": [
    "This a question that can be solved by a brute force method which means that it can be solved by checking whether the number meet the property that the sum of itself and revsersed number will only have odd digits. Below shows the brute force approach for this question.  \n",
    "\n",
    "\n",
    "### Brute Force Approach\n",
    "\n",
    "First, we need a helper function (is_reversible(input_number)) to identify whether the number is meeting the property or not which is the sum of itself and the reversed number only consists of odd digits. Within the helper function, if the number can be divided by 10, then the number immediately disqualified for be a reversible number. Then, we need to generate the sum of itself and the reversed number. To reverse the number, we can convert the number into a string to reverse it by using \\[::-1\\], lastly converting to integer again. \n",
    "\n",
    "Once we generate the sum, we can check the digits of the sum by extracting each digit of the number. If the digit is an even digit, then the number is disqualified. But if the digit is odd, we keep checking on the next digit. For a number is reversible, the number can successfully go through the while loop and return True at the end line of the function.  \n",
    "\n",
    "Then, we use this helper function inside the function for counting the number of reversible numbers within a range that user defined. The count function starts with generating a list of number that is within the user defined range. Next, we are going to use a for loop to loop through the list to check each number of the list by using the helper function. If it is a reversible number, we increase the count by 1. The count function lastly will return the count which tells us how many reversible numbers within the defined range.  \n"
   ]
  },
  {
   "cell_type": "code",
   "execution_count": 4,
   "metadata": {},
   "outputs": [
    {
     "data": {
      "text/plain": [
       "120"
      ]
     },
     "execution_count": 4,
     "metadata": {},
     "output_type": "execute_result"
    }
   ],
   "source": [
    "def is_reversible(input_number):\n",
    "    \"\"\"Helper function for checking whether the numeber is reversible or not.\"\"\"\n",
    "    if input_number % 10 == 0:\n",
    "        return False\n",
    "    \n",
    "    reversed_number = int(str(input_number)[::-1])\n",
    "    sum_n_reverse = reversed_number + input_number\n",
    "    \n",
    "    while sum_n_reverse > 0:\n",
    "        if (sum_n_reverse % 10) % 2 == 0:\n",
    "            return False\n",
    "        sum_n_reverse //= 10\n",
    "        \n",
    "    return True\n",
    "        \n",
    "\n",
    "def count_reversible_numbers(input_numbers):\n",
    "    \"\"\"Count the number of reversible numbers below one billion.\"\"\"\n",
    "    input_list = range(input_numbers)\n",
    "    #target_list = list()\n",
    "    count = 0\n",
    "    \n",
    "    for number in input_list:\n",
    "        if is_reversible(number):\n",
    "            #target_list.append(number)\n",
    "            count += 1\n",
    "    \n",
    "    #return(target_list)\n",
    "    return count\n",
    "\n",
    "count_reversible_numbers(1000)"
   ]
  },
  {
   "cell_type": "markdown",
   "metadata": {},
   "source": [
    "But since we are dealing with a range like one billion numbers, the brute force method is very insufficient in computation. Therefore, we can analyze the question by finding a pattern in the base cases.  "
   ]
  },
  {
   "cell_type": "markdown",
   "metadata": {},
   "source": [
    "We can approach this question by analyzing the different scenarios causing by the addition between digits. I will give detailed explanation about how this approach works in the following.  \n"
   ]
  },
  {
   "cell_type": "markdown",
   "metadata": {},
   "source": [
    "### Analytical Approach\n",
    "\n",
    "### range(10^1)\n",
    "In the range of numbers are in 1 digits, those number are all disqualified to be reversible since the addition of the numbers between 1-9 to itself is an even number. Therefore, we can't find any reversible number when the numbers are in 1 digit.  \n",
    "\n",
    "There is no solution.  "
   ]
  },
  {
   "cell_type": "markdown",
   "metadata": {},
   "source": [
    "### range(10^2)\n",
    "When the numbers are in 2 digits, we can use ab to represent the number in 2 digits. Then, the sum of itself and the reversed number is represented by: a+b_b+a. To meet the property, a+b must be an odd number and cannot have a carryover. In the other words, a+b < 10 and a+b is an odd number.  \n",
    "\n",
    "There are 20 pairs of a and b to meet this requirement.   "
   ]
  },
  {
   "cell_type": "markdown",
   "metadata": {},
   "source": [
    "### range(10^3)\n",
    "When the numbers are in 3 digits, we us abc to represent. Then, the sum of itself and the reversed number = a+c_b+b_c+a. We can refer c+a as the outer pair and b+b as the inner pair.  \n",
    "\n",
    "Since the inner pair is the addition to itself. Like we analyzed in the 1 digit scenario, the addition to itself will always produce an even number. Therefore, the middle pair needs a 1 from the carryover of the pair c+a to become an odd number. In addition, it implies that the middle pair must not have a carryover otherwise the carryover will cause the pair a+c become an even number based on the fact that a+c needs to be an odd number.  \n",
    "\n",
    "Thus, we restrict those solutions to meet the following requirements:  \n",
    "1. b+b < 10 and b+b is an even number.  \n",
    "2. 20 > a+c > 10 and a+c is an odd number.  \n",
    "\n",
    "Therefore, there are 5 * 20 = 100 solutions.  "
   ]
  },
  {
   "cell_type": "markdown",
   "metadata": {},
   "source": [
    "### range(10^4)\n",
    "We can use abcd to represent numbers in 4 digits.  \n",
    "Then, the sum can be written as: a+d_b+c_c+b_d+a. We are referring a+d as the outer pair and b+c as the inner pair.  \n",
    "\n",
    "This is like the scenario that we analyzed in the 2 digits case that d+a must not have a carryover and has to be an odd number and so does the pair, c+b. However, since the pair c and b is in the middle, c+b can be 0.  \n",
    "\n",
    "Thus, the solutions need to meet those requirements:  \n",
    "1. a+d < 10 and a+b is an odd number.  \n",
    "2. c+b < 10 and c+b is an odd number and can be 0.  \n",
    "    \n",
    "Therefore, there are 20*30 = 600 solutions."
   ]
  },
  {
   "cell_type": "markdown",
   "metadata": {},
   "source": [
    "### range(10^5)\n",
    "Numbers in 5 digits can be represented as abcde.  \n",
    "Then, the sum = a+e_b+d_c+c_d+b_e+a.  \n",
    "\n",
    "Since c+c is the addition to itself, it will generate the even number. It also implied that c+c will borrow the 1 from the carryover of d+b. And this also tells us that a+e will take the 1 from the carryover of b+d to become an odd number.  \n",
    "\n",
    "Thus, we have the follow restrictions:  \n",
    "1. c+c is an even number.  \n",
    "2. b+d > 10 and is an odd number.  \n",
    "3. a+e is an odd number.  \n",
    "    \n",
    "However, there is no solution since the a+e needs to be an odd number and needs to take 1 from the carryover of b+d.  "
   ]
  },
  {
   "cell_type": "markdown",
   "metadata": {},
   "source": [
    "### range(10^6)\n",
    "\n",
    "Numbers in 6 digits can be represented as abcdef.  \n",
    "The sum = a+f_b+e_c+d_d+c_e+b_f+a.  \n",
    "\n",
    "This scenario is also pretty much like the 2 digits case where:  \n",
    "1. c+d < 10 and c+d can be an odd number including 0.  \n",
    "2. b+e <10 and has to be an odd number including 0.  \n",
    "3. a+f <10 and has to be an odd number excluding 0.  \n",
    "\n",
    "Therefore, we have 20*30^2 solutions.  "
   ]
  },
  {
   "cell_type": "markdown",
   "metadata": {},
   "source": [
    "### range(10^7)\n",
    "\n",
    "Numbers in 7 digits can be represented as abcdefg.  \n",
    "The sum = a+g_b+f_c+e_d+d_e+c_f+b_g+a.  \n",
    "\n",
    "The solutions must meet the following restrictions:  \n",
    "1. d+d < 10 and must be an even number.  \n",
    "2. c+e > 10 and must be an odd number including 0.  \n",
    "3. f+b < 10 and must be an odd number including 0.  \n",
    "4. a+g < 10 and must be an odd number excluding 0.  \n",
    "\n",
    "Thus, there are 5 * 20 * 20 * 25 = 100 * 500 solutions.  "
   ]
  },
  {
   "cell_type": "markdown",
   "metadata": {},
   "source": [
    "### range(10^8)\n",
    "\n",
    "Numbers in 8 digits can be represented as abcdefgh.  \n",
    "The sum = a+h_b+g_c+f_d+e_e+d_f+c_g+b_h+a.  \n",
    "\n",
    "The solutions must meet the following restrictions like the case in 2 or 4 or 6 digits:  \n",
    "1. a+h < 10 and must be an odd number excluding 0.  \n",
    "2. b+g, c+f, and d+e < 10 and must be an odd number including 0.  \n",
    "\n",
    "Thus, there are 20 * 30^3 solutions.  "
   ]
  },
  {
   "cell_type": "markdown",
   "metadata": {},
   "source": [
    "### range(10^9)\n",
    "\n",
    "Numbers in 9 digits can be represented as abcdefghi.  \n",
    "The sum = a+i_b+h_c+g_d+f_e+e_f+d_g+c_h+b_i+a.  \n",
    "\n",
    "This case is pretty much similar like the case for 5 digits that we cannot find solutions. The reason why is that e+e needs the 1 from the carryover of d+f since the addition of e itself will only generate the even number. However, it also means that c+g, h+b are both >10 and they are even numbers. Thus, since a+i has to be an odd number, a+i will be changed to even due to the carryover from b+h.  \n",
    "\n",
    "Thus, there is no solution.  "
   ]
  },
  {
   "cell_type": "markdown",
   "metadata": {},
   "source": [
    "### Analytical Approach: Summary"
   ]
  },
  {
   "cell_type": "markdown",
   "metadata": {},
   "source": [
    "Since we have done with analyzing those base cases from 1 digit to 9 digits, we can generalize the solutions based on the pattern.  \n",
    "\n",
    "For the number of digits in 1, 5, and 9, solutions = 0.  \n",
    "For number of digits in 2, 4, 6, and 8, solutions = 20 * 30^n where n = # of digits / 2 - 1.  \n",
    "For number of digits in 3 and 7, solutions = 100 * 500^n where n = (# of digits -3) / 4.  \n",
    "\n",
    "Based on the pattern, we can transform it into a function.  \n",
    "\n",
    "First, we need to figure out what those cases in that number range by finding the maximum numbers of digits that this numer range can hold. For that, we just need to take the log of the input number of base 10. And then, we evaluate the digit number based on the pattern that we found:  \n",
    "1. If the digit number can be divided by 2, then the count = 20 * 30^(digits/2-1).  \n",
    "2. If the digit number can be expressed as 4*i+3 for i = 0,1,2,3,..., then the count = 100 * 500^\\[(digits-3)/4\\]. \n",
    "3. If the digit number failed to meet the above two requirements, then there is no solution.  \n"
   ]
  },
  {
   "cell_type": "markdown",
   "metadata": {},
   "source": [
    "Below is the function for counting the number of reversible numbers within a defined number range based on analytical approach:  "
   ]
  },
  {
   "cell_type": "code",
   "execution_count": 2,
   "metadata": {},
   "outputs": [
    {
     "data": {
      "text/plain": [
       "608720"
      ]
     },
     "execution_count": 2,
     "metadata": {},
     "output_type": "execute_result"
    }
   ],
   "source": [
    "import math\n",
    "\n",
    "def count_reversible_nums(num_range):\n",
    "    \"\"\"Count the number of the reversible numbers within a input-range.\"\"\"\n",
    "    pow_number = int(math.log10(num_range))\n",
    "    count = 0\n",
    "    for power in range(2,pow_number + 1):\n",
    "        if power % 2 == 0:\n",
    "            count += 20 * math.pow(30 ,power / 2 - 1)\n",
    "        if (power - 3) % 4 == 0:\n",
    "            count += 100 * math.pow(500, (power - 3)/4)\n",
    "            \n",
    "    return int(count)\n",
    "\n",
    "count_reversible_nums(1000000000)"
   ]
  },
  {
   "cell_type": "markdown",
   "metadata": {},
   "source": [
    "# 2. Permuted Multiples"
   ]
  },
  {
   "cell_type": "markdown",
   "metadata": {},
   "source": [
    "\"It can be seen that the number, 125874, and its double, 251748, contain exactly the same digits, but in a different order.\n",
    "\n",
    "Find the smallest positive integer, x, such that 2x, 3x, 4x, 5x, and 6x, contain the same digits.\""
   ]
  },
  {
   "cell_type": "markdown",
   "metadata": {},
   "source": [
    "This is a question posted on the [Euler Project](https://projecteuler.net/problem=52) which was solved by 65547 people so far (ID: 52). I'm going to walk you through the process that I took for solving the problem.  "
   ]
  },
  {
   "cell_type": "markdown",
   "metadata": {},
   "source": [
    "We can start with number 2 and move up by 1 until the smallest positive integer that satisfies the requirement is found. To check the requirement, we need to generate several numbers that are corresponding to 2-6 times of that positive integer.  \n",
    "\n",
    "And then, a helper function will check whether the positive integer and the corresponding multiple of that number contain the same digits or not. Within the helper function, the checking process will be accomplished by comparing the two sorted numbers after converting them into strings.  \n",
    "\n",
    "Once we confirm that those multiples of that positive integer have the same digits as the positive integer itself, we will stop the increments and return to that current number.  \n",
    "\n",
    "Below is showing how the solution is coded into a function.  "
   ]
  },
  {
   "cell_type": "code",
   "execution_count": 2,
   "metadata": {},
   "outputs": [
    {
     "data": {
      "text/plain": [
       "142857"
      ]
     },
     "execution_count": 2,
     "metadata": {},
     "output_type": "execute_result"
    }
   ],
   "source": [
    "def same_digits(num1, num2):\n",
    "    \"\"\"Helper function to check whether two numbers contain same digits.\"\"\"\n",
    "    if sorted(str(num1)) == sorted(str(num2)):\n",
    "        return True\n",
    "    return False\n",
    "\n",
    "def permuted_multiple():\n",
    "    \"\"\"Find the smallest positive integer x, such that 2x, 3x, 4x, 5x, and 6x, contain the same digits.\"\"\"\n",
    "    found = False\n",
    "    num = 2\n",
    "    while not found:\n",
    "        two_times = num * 2\n",
    "        three_times = num * 3\n",
    "        four_times = num * 4\n",
    "        five_times = num * 5\n",
    "        six_times = num * 6\n",
    "        if (same_digits(num, two_times)\n",
    "            and same_digits(num, three_times)\n",
    "            and same_digits(num, four_times)\n",
    "            and same_digits(num, five_times)\n",
    "            and same_digits(num, six_times) ):\n",
    "            found = True\n",
    "            return num\n",
    "        num += 1\n",
    "    return num\n",
    "\n",
    "permuted_multiple()"
   ]
  },
  {
   "cell_type": "markdown",
   "metadata": {},
   "source": [
    "## 3. Summation of Primes"
   ]
  },
  {
   "cell_type": "markdown",
   "metadata": {},
   "source": [
    "\"The sum of the primes below 10 is 2 + 3 + 5 + 7 = 17.\n",
    "\n",
    "Find the sum of all the primes below two million.\""
   ]
  },
  {
   "cell_type": "markdown",
   "metadata": {},
   "source": [
    "This is a question posted on the [Euler Project](https://projecteuler.net/problem=10) which was solved by 330347 people so far (ID: 10).  "
   ]
  },
  {
   "cell_type": "markdown",
   "metadata": {},
   "source": [
    "To approach this question, we can start with creating a list that contains every positive integers below the number range and then looping through the list to find all the primes. Since we are looping through the number list, we can exclude some integers from the list prior to the looping process to save some energy.  \n",
    "\n",
    "As we know that the prime is a number that can only be divided by 1 or itself, therefore any even number greater than 2 will automatically excluded from being a prime number since even numbers can be divided by 2. Thus, we can remove those even numbers greater than 2 from the number list.  \n",
    "\n",
    "In addition, any number ends in 5 can also be removed from the list since those numbers can be divided by 5.  \n",
    "\n",
    "Then, we will send the cleaned number list into a for loop to loop through the remainning numbers in the list and sum up all the primes in the list.  \n",
    "\n",
    "While we are looping through the number list, we will need a helper function to check whether the current number is a prime or not. If we find the prime, we will add that number to the sum.  \n",
    "\n",
    "Within the helper function, we are trying to check whether the input number is a prime or not. This is accomplished by dividing the factors of the input number into two halves. These two halves of factors are mirroring with each other if the number is not prime. We can use number 64 as the illustration. 64 can be obtained from the multiplication of the following pairs:  \n",
    "1. 1 * 64 \n",
    "2. 2 * 32\n",
    "3. 4 * 16\n",
    "4. 8 * 8\n",
    "5. 16 * 4\n",
    "6. 32 * 2\n",
    "7. 64 * 1  \n",
    "\n",
    "We can see that the square root of the number is the number can help to divide the factors into two halves. In addition, you may also think what if the square root of number is not an integer. We will then use the nearest integer of the square root as the mirror line. Thus, we can generate a list of factors that are below the mirror number to check whether the input number can be divided by those factors. As long as we find a factor of that number besides 1 and itself, we will return False as the indication of that number is not a prime and the function that generates the sum of the primes will increment by 1 to move to the next number in the list.  \n",
    "\n",
    "Below shows how the solution is coded into functions to solve the question:  "
   ]
  },
  {
   "cell_type": "code",
   "execution_count": 6,
   "metadata": {},
   "outputs": [
    {
     "data": {
      "text/plain": [
       "142913828922"
      ]
     },
     "execution_count": 6,
     "metadata": {},
     "output_type": "execute_result"
    }
   ],
   "source": [
    "import math\n",
    "\n",
    "\n",
    "def is_prime(num):\n",
    "    \"\"\"Helper function to check whether the number is a prime or not.\"\"\"\n",
    "    for i in range(2, int(math.sqrt(num))+1):\n",
    "        if (num % i == 0):\n",
    "            return False\n",
    "    \n",
    "    return True\n",
    "\n",
    "def sum_primes_below_num_range(num_range):\n",
    "    \"\"\"Sum all the primes below the input number range.\"\"\"\n",
    "    # remove all the even number above 3 but below 2 million\n",
    "    list_nums = range(3,num_range,2)\n",
    "\n",
    "    #remove all the numbers above 5 but end in 5 from the list\n",
    "    removed_nums = range(15,num_range,10)\n",
    "    list_nums = list(set(list_nums) - set(removed_nums))\n",
    "\n",
    "    \n",
    "    sum = 2\n",
    "    for ele in list_nums:\n",
    "        if is_prime(ele) == True:\n",
    "            sum += ele\n",
    "\n",
    "    return sum\n",
    "\n",
    "sum_primes_below_num_range(2000000)\n",
    "        "
   ]
  }
 ],
 "metadata": {
  "kernelspec": {
   "display_name": "Python 3",
   "language": "python",
   "name": "python3"
  },
  "language_info": {
   "codemirror_mode": {
    "name": "ipython",
    "version": 3
   },
   "file_extension": ".py",
   "mimetype": "text/x-python",
   "name": "python",
   "nbconvert_exporter": "python",
   "pygments_lexer": "ipython3",
   "version": "3.7.8"
  }
 },
 "nbformat": 4,
 "nbformat_minor": 4
}
